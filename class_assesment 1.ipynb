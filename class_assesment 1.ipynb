{
 "cells": [
  {
   "cell_type": "markdown",
   "id": "a03de09d",
   "metadata": {},
   "source": [
    "Write a program to accept percentage from the user and display the grade according to the following criteria:\n",
    "Marks                                    Grade\n",
    "         > 90                                        A\n",
    "         > 80 and <= 90                              B\n",
    "         >= 60 and <= 80                             C\n",
    "         below 60                                    D\n"
   ]
  },
  {
   "cell_type": "code",
   "execution_count": 5,
   "id": "8b528189",
   "metadata": {},
   "outputs": [
    {
     "name": "stdout",
     "output_type": "stream",
     "text": [
      "enter marks90\n",
      "grade B\n"
     ]
    }
   ],
   "source": [
    "x=int(input(\"enter marks\"))\n",
    "if x>90:\n",
    "    print(\"grade A\")\n",
    "elif x>80 and x<=90:\n",
    "    print(\"grade B\")\n",
    "elif x>=60 and x<=80:\n",
    "    print(\"grade C\")\n",
    "else:\n",
    "    print(\"grade D\")"
   ]
  },
  {
   "cell_type": "markdown",
   "id": "1d010657",
   "metadata": {},
   "source": [
    "Write a program to accept the cost price of a bike and display the road tax to be paid according to the following criteria :\n",
    "    \n",
    "        Cost price (in Rs)                                       Tax\n",
    "        > 100000                                                  15 %\n",
    "        > 50000 and <= 100000                                     10%\n",
    "        <= 50000             \n",
    "                                                                 5%"
   ]
  },
  {
   "cell_type": "code",
   "execution_count": 9,
   "id": "a5560bba",
   "metadata": {},
   "outputs": [
    {
     "name": "stdout",
     "output_type": "stream",
     "text": [
      "enter price75000\n",
      "tax is: 7500.0\n"
     ]
    }
   ],
   "source": [
    "price=int(input(\"enter price\"))\n",
    "if price>100000:\n",
    "    tax=price*(15/100)\n",
    "    print(\"tax is:\",tax)\n",
    "elif price>50000 and price<=100000:\n",
    "    tax=price*(10/100)\n",
    "    print(\"tax is:\",tax)\n",
    "else:\n",
    "    tax=price*(5/100)\n",
    "    print(\"tax is:\",tax)"
   ]
  },
  {
   "cell_type": "markdown",
   "id": "4ae15ba6",
   "metadata": {},
   "source": [
    "Write a program to check whether a person is eligible for voting or not. (accept age from user)\n"
   ]
  },
  {
   "cell_type": "code",
   "execution_count": 4,
   "id": "60021897",
   "metadata": {},
   "outputs": [
    {
     "name": "stdout",
     "output_type": "stream",
     "text": [
      "enter age20\n",
      "eligible\n"
     ]
    }
   ],
   "source": [
    "x=int(input(\"enter age\"))\n",
    "if x>18:\n",
    "    print(\"eligible\")\n",
    "else:\n",
    "    print(\"not eligible\")"
   ]
  },
  {
   "cell_type": "markdown",
   "id": "08986009",
   "metadata": {},
   "source": [
    "Write a program to check whether a number entered by user is even or odd.\n"
   ]
  },
  {
   "cell_type": "code",
   "execution_count": 8,
   "id": "eddf9e9c",
   "metadata": {},
   "outputs": [
    {
     "name": "stdout",
     "output_type": "stream",
     "text": [
      "enter number28\n",
      "even\n"
     ]
    }
   ],
   "source": [
    "x=int(input(\"enter number\"))\n",
    "if x%2==0:\n",
    "    print(\"even\")\n",
    "else:\n",
    "    print(\"odd\")"
   ]
  },
  {
   "cell_type": "markdown",
   "id": "8a34908d",
   "metadata": {},
   "source": [
    "Write a program to check whether a number is divisible by 7 or not."
   ]
  },
  {
   "cell_type": "code",
   "execution_count": 6,
   "id": "fa015124",
   "metadata": {},
   "outputs": [
    {
     "name": "stdout",
     "output_type": "stream",
     "text": [
      "enter number21\n",
      "divisible by 7\n"
     ]
    }
   ],
   "source": [
    "x=int(input(\"enter number\"))\n",
    "if int(x)%7==0:\n",
    "    print(\"divisible by 7\")\n",
    "else:\n",
    "    print(\"not divisible\")"
   ]
  },
  {
   "cell_type": "markdown",
   "id": "281ffaf6",
   "metadata": {},
   "source": [
    "Write a program to display \"Hello\" if a number entered by user is a multiple of five , \n",
    "otherwise print \"Bye\"."
   ]
  },
  {
   "cell_type": "code",
   "execution_count": 1,
   "id": "584695fe",
   "metadata": {},
   "outputs": [
    {
     "name": "stdout",
     "output_type": "stream",
     "text": [
      "enter a number20\n",
      "hello\n"
     ]
    }
   ],
   "source": [
    "x=int(input(\"enter a number\"))\n",
    "if x%5==0:\n",
    "    print(\"hello\")\n",
    "else:\n",
    "    print(\"bye\")\n"
   ]
  },
  {
   "cell_type": "markdown",
   "id": "83ac51d1",
   "metadata": {},
   "source": [
    "Write a program to calculate the electricity bill (accept number of unit from user) according to the following criteria :\n",
    "             Unit                                                     Price  \n",
    "First 100 units                                               no charge\n",
    "Next 100 units                                              Rs 5 per unit\n",
    "After 200 units                                             Rs 10 per unit\n",
    "(For example if input unit is 350 than total bill amount is Rs2000)\n"
   ]
  },
  {
   "cell_type": "code",
   "execution_count": 2,
   "id": "ca59b14d",
   "metadata": {},
   "outputs": [
    {
     "name": "stdout",
     "output_type": "stream",
     "text": [
      "350\n",
      "2000\n"
     ]
    }
   ],
   "source": [
    "units=int(input())\n",
    "x=[]\n",
    "if units:\n",
    "    units=units-100\n",
    "if units:\n",
    "    units=units-100\n",
    "    x.append(100*5)\n",
    "if units:\n",
    "    x.append(units*10)\n",
    "print(sum(x))"
   ]
  },
  {
   "cell_type": "markdown",
   "id": "338d3fcf",
   "metadata": {},
   "source": [
    "Write a program to display the last digit of a number.\n",
    "(hint : any number % 10 will return the last digit)"
   ]
  },
  {
   "cell_type": "code",
   "execution_count": 12,
   "id": "f2ea651c",
   "metadata": {},
   "outputs": [
    {
     "name": "stdout",
     "output_type": "stream",
     "text": [
      "enter number456\n",
      "6\n"
     ]
    }
   ],
   "source": [
    "x=int(input(\"enter number\"))\n",
    "print(x%10)"
   ]
  },
  {
   "cell_type": "markdown",
   "id": "ce5418d8",
   "metadata": {},
   "source": [
    "Write a program to check whether the last digit of a number( entered by user ) is \n",
    "divisible by 3 or not."
   ]
  },
  {
   "cell_type": "code",
   "execution_count": 3,
   "id": "179f6629",
   "metadata": {},
   "outputs": [
    {
     "name": "stdout",
     "output_type": "stream",
     "text": [
      "enter the number456\n",
      "divisible\n"
     ]
    }
   ],
   "source": [
    "x=input(\"enter the number\")\n",
    "if x.isdigit() and  int(x[-1])%3==0:\n",
    "    print(\"divisible\")\n",
    "else:\n",
    "    print(\"not divisible\")\n",
    "    "
   ]
  }
 ],
 "metadata": {
  "kernelspec": {
   "display_name": "Python 3 (ipykernel)",
   "language": "python",
   "name": "python3"
  },
  "language_info": {
   "codemirror_mode": {
    "name": "ipython",
    "version": 3
   },
   "file_extension": ".py",
   "mimetype": "text/x-python",
   "name": "python",
   "nbconvert_exporter": "python",
   "pygments_lexer": "ipython3",
   "version": "3.9.12"
  }
 },
 "nbformat": 4,
 "nbformat_minor": 5
}

{
 "cells": [
  {
   "cell_type": "code",
   "execution_count": 1,
   "id": "f0311693",
   "metadata": {},
   "outputs": [
    {
     "name": "stdout",
     "output_type": "stream",
     "text": [
      "enter stringabcdef\n"
     ]
    }
   ],
   "source": [
    "y=input(\"enter string\")\n",
    "x=0\n",
    "str=\"\"\n",
    "while x<len(y):\n",
    "    if x%2==0:\n",
    "        str=str+y[x].upper()\n",
    "    else:\n",
    "        str=str+y[x].lower()\n",
    "    x=x+1\n",
    "    "
   ]
  },
  {
   "cell_type": "code",
   "execution_count": 2,
   "id": "b3e10aa0",
   "metadata": {},
   "outputs": [
    {
     "data": {
      "text/plain": [
       "'AbCdEf'"
      ]
     },
     "execution_count": 2,
     "metadata": {},
     "output_type": "execute_result"
    }
   ],
   "source": [
    "str"
   ]
  },
  {
   "cell_type": "code",
   "execution_count": 3,
   "id": "485655bb",
   "metadata": {},
   "outputs": [
    {
     "name": "stdout",
     "output_type": "stream",
     "text": [
      "<class 'int'>\n",
      "<class 'float'>\n",
      "<class 'complex'>\n",
      "<class 'str'>\n"
     ]
    }
   ],
   "source": [
    "x=0\n",
    "y=[2,2.2,2+2j,\"abc\"]\n",
    "while x<len(y):\n",
    "    print(type(y[x]))\n",
    "    x=x+1"
   ]
  },
  {
   "cell_type": "code",
   "execution_count": 2,
   "id": "8ff6a2e7",
   "metadata": {},
   "outputs": [
    {
     "name": "stdout",
     "output_type": "stream",
     "text": [
      "abde\n",
      "10\n"
     ]
    }
   ],
   "source": [
    "x=0\n",
    "y=[\"a\",\"b\",1,2,3,\"d\",\"e\",4]\n",
    "a=\"\"\n",
    "n=0\n",
    "while x<len(y):\n",
    "    if str(y[x]).isalpha():\n",
    "        a=a+y[x]\n",
    "    else:\n",
    "        n=n+int(y[x])\n",
    "    x=x+1\n",
    "print(a)\n",
    "print(int(n))"
   ]
  },
  {
   "cell_type": "code",
   "execution_count": 4,
   "id": "ba901986",
   "metadata": {},
   "outputs": [
    {
     "name": "stdout",
     "output_type": "stream",
     "text": [
      "enter stringabcd123ef\n"
     ]
    }
   ],
   "source": [
    "a=\"\"\n",
    "n=\"\"\n",
    "y=input(\"enter string\")\n",
    "x=0\n",
    "while x<len(y):\n",
    "    if y[x].isalpha():\n",
    "        a=a+y[x]\n",
    "    else:\n",
    "        n=n+y[x]\n",
    "    x=x+1"
   ]
  },
  {
   "cell_type": "code",
   "execution_count": 5,
   "id": "02ab81ae",
   "metadata": {},
   "outputs": [
    {
     "data": {
      "text/plain": [
       "'abcdef'"
      ]
     },
     "execution_count": 5,
     "metadata": {},
     "output_type": "execute_result"
    }
   ],
   "source": [
    "a"
   ]
  },
  {
   "cell_type": "code",
   "execution_count": 6,
   "id": "687f141c",
   "metadata": {},
   "outputs": [
    {
     "data": {
      "text/plain": [
       "['a', 'b', 'c', 'd', 'e', 'f']"
      ]
     },
     "execution_count": 6,
     "metadata": {},
     "output_type": "execute_result"
    }
   ],
   "source": [
    "list(a)"
   ]
  },
  {
   "cell_type": "code",
   "execution_count": 7,
   "id": "15c675ea",
   "metadata": {},
   "outputs": [
    {
     "data": {
      "text/plain": [
       "'123'"
      ]
     },
     "execution_count": 7,
     "metadata": {},
     "output_type": "execute_result"
    }
   ],
   "source": [
    "n"
   ]
  },
  {
   "cell_type": "code",
   "execution_count": 8,
   "id": "d9656fe9",
   "metadata": {},
   "outputs": [
    {
     "data": {
      "text/plain": [
       "['1', '2', '3']"
      ]
     },
     "execution_count": 8,
     "metadata": {},
     "output_type": "execute_result"
    }
   ],
   "source": [
    "list(n)"
   ]
  },
  {
   "cell_type": "code",
   "execution_count": 9,
   "id": "7820f77d",
   "metadata": {},
   "outputs": [
    {
     "data": {
      "text/plain": [
       "{2, 6, 'b', 'd'}"
      ]
     },
     "execution_count": 9,
     "metadata": {},
     "output_type": "execute_result"
    }
   ],
   "source": [
    "l1=[1,2,3,\"a\",\"b\"]\n",
    "l2=[6,1,3,\"a\",\"d\"]\n",
    "set(l1)^set(l2)\n"
   ]
  },
  {
   "cell_type": "code",
   "execution_count": 4,
   "id": "9de900e4",
   "metadata": {},
   "outputs": [
    {
     "name": "stdout",
     "output_type": "stream",
     "text": [
      "enter first number10\n",
      "type+,-,*,/,%+\n",
      "enter second number5\n",
      "15\n"
     ]
    }
   ],
   "source": [
    "a=int(input(\"enter first number\"))\n",
    "ope=input(\"type+,-,*,/,%\")\n",
    "b=int(input(\"enter second number\"))\n",
    "while True:\n",
    "    if ope=='+':\n",
    "        print(a+b)\n",
    "        break\n",
    "    if ope=='-':\n",
    "        print(a-b)\n",
    "        break\n",
    "    if ope=='*':\n",
    "        print(a*b)\n",
    "        break\n",
    "    if ope=='/':\n",
    "        print(a/b)\n",
    "        break\n",
    "    if ope=='%':\n",
    "        print(a%b)\n",
    "        break"
   ]
  },
  {
   "cell_type": "code",
   "execution_count": null,
   "id": "66dba631",
   "metadata": {},
   "outputs": [],
   "source": []
  }
 ],
 "metadata": {
  "kernelspec": {
   "display_name": "Python 3 (ipykernel)",
   "language": "python",
   "name": "python3"
  },
  "language_info": {
   "codemirror_mode": {
    "name": "ipython",
    "version": 3
   },
   "file_extension": ".py",
   "mimetype": "text/x-python",
   "name": "python",
   "nbconvert_exporter": "python",
   "pygments_lexer": "ipython3",
   "version": "3.9.12"
  }
 },
 "nbformat": 4,
 "nbformat_minor": 5
}
